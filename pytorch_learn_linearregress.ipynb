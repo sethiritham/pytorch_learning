{
 "cells": [
  {
   "cell_type": "code",
   "execution_count": 37,
   "id": "7043abfa",
   "metadata": {},
   "outputs": [],
   "source": [
    "import torch\n",
    "import torch.nn as nn\n",
    "import matplotlib.pyplot as plt"
   ]
  },
  {
   "cell_type": "code",
   "execution_count": 38,
   "id": "53339b6a",
   "metadata": {},
   "outputs": [
    {
     "name": "stdout",
     "output_type": "stream",
     "text": [
      "Using device: cuda\n"
     ]
    }
   ],
   "source": [
    "device = ('cuda' if torch.cuda.is_available() else 'cpu')\n",
    "print(f\"Using device: {device}\")"
   ]
  },
  {
   "cell_type": "code",
   "execution_count": 39,
   "id": "a6dd798d",
   "metadata": {},
   "outputs": [],
   "source": [
    "weight = 0.5\n",
    "bias = 0.4\n",
    "\n",
    "start = 0\n",
    "end = 1\n",
    "step = 0.02\n",
    "\n",
    "X = torch.arange(start, end, step).unsqueeze(dim = 1)\n",
    "y = weight*X + bias"
   ]
  },
  {
   "cell_type": "code",
   "execution_count": 40,
   "id": "c713c807",
   "metadata": {},
   "outputs": [],
   "source": [
    "train_split = int(0.8 * len(X))\n",
    "X_train, y_train = X[:train_split], y[:train_split]\n",
    "X_test, y_test = X[train_split:], y[train_split:]"
   ]
  },
  {
   "cell_type": "code",
   "execution_count": 41,
   "id": "9a59a413",
   "metadata": {},
   "outputs": [],
   "source": [
    "class LinearRegressionModel(nn.Module):\n",
    "    def __init__(self):\n",
    "        super().__init__()\n",
    "        self.linear_layer = nn.Linear(in_features=1, out_features=1)\n",
    "    def forward(self, x: torch.Tensor):\n",
    "        return self.linear_layer(x)"
   ]
  },
  {
   "cell_type": "code",
   "execution_count": 42,
   "id": "1dc212a7",
   "metadata": {},
   "outputs": [
    {
     "data": {
      "text/plain": [
       "(LinearRegressionModel(\n",
       "   (linear_layer): Linear(in_features=1, out_features=1, bias=True)\n",
       " ),\n",
       " OrderedDict([('linear_layer.weight', tensor([[0.7645]])),\n",
       "              ('linear_layer.bias', tensor([0.8300]))]))"
      ]
     },
     "execution_count": 42,
     "metadata": {},
     "output_type": "execute_result"
    }
   ],
   "source": [
    "torch.manual_seed(42)\n",
    "\n",
    "linear_model = LinearRegressionModel()\n",
    "linear_model, linear_model.state_dict()"
   ]
  },
  {
   "cell_type": "code",
   "execution_count": 43,
   "id": "734304b9",
   "metadata": {},
   "outputs": [
    {
     "data": {
      "text/plain": [
       "LinearRegressionModel(\n",
       "  (linear_layer): Linear(in_features=1, out_features=1, bias=True)\n",
       ")"
      ]
     },
     "execution_count": 43,
     "metadata": {},
     "output_type": "execute_result"
    }
   ],
   "source": [
    "linear_model.to(device)"
   ]
  },
  {
   "cell_type": "code",
   "execution_count": 44,
   "id": "ca14beb3",
   "metadata": {},
   "outputs": [],
   "source": [
    "loss_fn = nn.L1Loss()\n",
    "optimizer = torch.optim.SGD(params=linear_model.parameters(), lr= 0.01)"
   ]
  },
  {
   "cell_type": "code",
   "execution_count": 45,
   "id": "559ee942",
   "metadata": {},
   "outputs": [
    {
     "name": "stdout",
     "output_type": "stream",
     "text": [
      "Epoch = [0/1000] \n",
      " Training Loss: 0.5331779718399048 \n",
      " Testing Loss: 0.6177474856376648\n",
      "Epoch = [100/1000] \n",
      " Training Loss: 0.003980043809860945 \n",
      " Testing Loss: 0.01464468240737915\n",
      "Epoch = [200/1000] \n",
      " Training Loss: 0.003980043809860945 \n",
      " Testing Loss: 0.01464468240737915\n",
      "Epoch = [300/1000] \n",
      " Training Loss: 0.003980043809860945 \n",
      " Testing Loss: 0.01464468240737915\n",
      "Epoch = [400/1000] \n",
      " Training Loss: 0.003980043809860945 \n",
      " Testing Loss: 0.01464468240737915\n",
      "Epoch = [500/1000] \n",
      " Training Loss: 0.003980043809860945 \n",
      " Testing Loss: 0.01464468240737915\n",
      "Epoch = [600/1000] \n",
      " Training Loss: 0.003980043809860945 \n",
      " Testing Loss: 0.01464468240737915\n",
      "Epoch = [700/1000] \n",
      " Training Loss: 0.003980043809860945 \n",
      " Testing Loss: 0.01464468240737915\n",
      "Epoch = [800/1000] \n",
      " Training Loss: 0.003980043809860945 \n",
      " Testing Loss: 0.01464468240737915\n",
      "Epoch = [900/1000] \n",
      " Training Loss: 0.003980043809860945 \n",
      " Testing Loss: 0.01464468240737915\n"
     ]
    }
   ],
   "source": [
    "torch.manual_seed(42)\n",
    "epochs = 1000\n",
    " \n",
    "X_train = X_train.to(device)\n",
    "X_test = X_test.to(device)\n",
    "y_train = y_train.to(device)\n",
    "y_test = y_test.to(device)\n",
    "\n",
    "for epoch in range(epochs):\n",
    "    linear_model.train()\n",
    "    y_pred = linear_model(X_train)\n",
    "    loss = loss_fn(y_pred, y_train)\n",
    "\n",
    "    optimizer.zero_grad()\n",
    "    loss.backward()\n",
    "    optimizer.step()\n",
    "    linear_model.eval()\n",
    "\n",
    "    with torch.inference_mode():\n",
    "        test_pred = linear_model(y_test)\n",
    "        test_loss = loss_fn(test_pred, y_test)\n",
    "\n",
    "    if epoch % 100 == 0:\n",
    "        print(f\"Epoch = [{epoch}/{epochs}] \\n Training Loss: {loss} \\n Testing Loss: {test_loss}\")\n",
    "\n"
   ]
  }
 ],
 "metadata": {
  "kernelspec": {
   "display_name": "Python 3",
   "language": "python",
   "name": "python3"
  },
  "language_info": {
   "codemirror_mode": {
    "name": "ipython",
    "version": 3
   },
   "file_extension": ".py",
   "mimetype": "text/x-python",
   "name": "python",
   "nbconvert_exporter": "python",
   "pygments_lexer": "ipython3",
   "version": "3.13.7"
  }
 },
 "nbformat": 4,
 "nbformat_minor": 5
}
