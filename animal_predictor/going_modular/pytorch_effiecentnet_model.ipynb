{
 "cells": [
  {
   "cell_type": "code",
   "execution_count": 15,
   "id": "adfc113d",
   "metadata": {},
   "outputs": [],
   "source": [
    "import torch\n",
    "import torchvision\n",
    "from torchinfo import summary\n",
    "import animal_predictor.going_modular.engine as engine\n",
    "import matplotlib.pyplot as plt \n",
    "import animal_predictor.going_modular.utils as utils\n",
    "from helper_functions import plot_loss_curves\n",
    "from torch import nn\n",
    "import tqdm as notebook_tqdm\n",
    "from torchvision import transforms\n",
    "import animal_predictor.going_modular.data_setup as data_setup\n",
    "import os"
   ]
  },
  {
   "cell_type": "code",
   "execution_count": 2,
   "id": "a10cd0dd",
   "metadata": {},
   "outputs": [
    {
     "data": {
      "text/plain": [
       "'cuda'"
      ]
     },
     "execution_count": 2,
     "metadata": {},
     "output_type": "execute_result"
    }
   ],
   "source": [
    "device = (\"cuda\" if torch.cuda.is_available() else \"cpu\")\n",
    "NUM_WORKERS = os.cpu_count()\n",
    "device"
   ]
  },
  {
   "cell_type": "code",
   "execution_count": 3,
   "id": "088933bd",
   "metadata": {},
   "outputs": [],
   "source": [
    "import os\n",
    "import zipfile\n",
    "from pathlib import Path\n",
    "import requests\n",
    "\n",
    "img_path = Path(r\"C:\\Users\\Rizzam\\Documents\\CODES\\Python\\deep_learning\\pytorch\\data\\animals\")\n",
    "train_dir = img_path / 'train'\n",
    "test_dir = img_path / 'test'\n"
   ]
  },
  {
   "cell_type": "code",
   "execution_count": 4,
   "id": "7a1f532d",
   "metadata": {},
   "outputs": [],
   "source": [
    "manual_tranforms = transforms.Compose([transforms.Resize((224, 224)), transforms.ToTensor(), transforms.Normalize(mean=[0.485, 0.456, 0.406], std=[0.229, 0.224, 0.225])])"
   ]
  },
  {
   "cell_type": "code",
   "execution_count": 5,
   "id": "70b62c95",
   "metadata": {},
   "outputs": [
    {
     "data": {
      "text/plain": [
       "EfficientNet_B0_Weights.IMAGENET1K_V1"
      ]
     },
     "execution_count": 5,
     "metadata": {},
     "output_type": "execute_result"
    }
   ],
   "source": [
    "\n",
    "weights = torchvision.models.EfficientNet_B0_Weights.DEFAULT\n",
    "weights"
   ]
  },
  {
   "cell_type": "code",
   "execution_count": 6,
   "id": "7b2b8f74",
   "metadata": {},
   "outputs": [
    {
     "data": {
      "text/plain": [
       "ImageClassification(\n",
       "    crop_size=[224]\n",
       "    resize_size=[256]\n",
       "    mean=[0.485, 0.456, 0.406]\n",
       "    std=[0.229, 0.224, 0.225]\n",
       "    interpolation=InterpolationMode.BICUBIC\n",
       ")"
      ]
     },
     "execution_count": 6,
     "metadata": {},
     "output_type": "execute_result"
    }
   ],
   "source": [
    "auto_transforms = weights.transforms()\n",
    "auto_transforms"
   ]
  },
  {
   "cell_type": "code",
   "execution_count": 7,
   "id": "078e750d",
   "metadata": {},
   "outputs": [],
   "source": [
    "train_dataloaders, test_dataloaders, class_names = data_setup.create_dataloaders(train_dir= train_dir, test_dir= test_dir, train_data_transform= manual_tranforms, test_data_transform= auto_transforms, batch_size=32, num_workers= NUM_WORKERS)"
   ]
  },
  {
   "cell_type": "code",
   "execution_count": 8,
   "id": "8b808f2f",
   "metadata": {},
   "outputs": [],
   "source": [
    "model = torchvision.models.efficientnet_b0(weights=weights).to(device)"
   ]
  },
  {
   "cell_type": "code",
   "execution_count": 9,
   "id": "0e36fa04",
   "metadata": {},
   "outputs": [
    {
     "data": {
      "text/plain": [
       "================================================================================\n",
       "Layer (type (var_name))                                      Input Shape\n",
       "================================================================================\n",
       "EfficientNet (EfficientNet)                                  [32, 3, 224, 224]\n",
       "├─Sequential (features)                                      [32, 3, 224, 224]\n",
       "│    └─Conv2dNormActivation (0)                              [32, 3, 224, 224]\n",
       "│    │    └─Conv2d (0)                                       [32, 3, 224, 224]\n",
       "│    │    └─BatchNorm2d (1)                                  [32, 32, 112, 112]\n",
       "│    │    └─SiLU (2)                                         [32, 32, 112, 112]\n",
       "│    └─Sequential (1)                                        [32, 32, 112, 112]\n",
       "│    │    └─MBConv (0)                                       [32, 32, 112, 112]\n",
       "│    └─Sequential (2)                                        [32, 16, 112, 112]\n",
       "│    │    └─MBConv (0)                                       [32, 16, 112, 112]\n",
       "│    │    └─MBConv (1)                                       [32, 24, 56, 56]\n",
       "│    └─Sequential (3)                                        [32, 24, 56, 56]\n",
       "│    │    └─MBConv (0)                                       [32, 24, 56, 56]\n",
       "│    │    └─MBConv (1)                                       [32, 40, 28, 28]\n",
       "│    └─Sequential (4)                                        [32, 40, 28, 28]\n",
       "│    │    └─MBConv (0)                                       [32, 40, 28, 28]\n",
       "│    │    └─MBConv (1)                                       [32, 80, 14, 14]\n",
       "│    │    └─MBConv (2)                                       [32, 80, 14, 14]\n",
       "│    └─Sequential (5)                                        [32, 80, 14, 14]\n",
       "│    │    └─MBConv (0)                                       [32, 80, 14, 14]\n",
       "│    │    └─MBConv (1)                                       [32, 112, 14, 14]\n",
       "│    │    └─MBConv (2)                                       [32, 112, 14, 14]\n",
       "│    └─Sequential (6)                                        [32, 112, 14, 14]\n",
       "│    │    └─MBConv (0)                                       [32, 112, 14, 14]\n",
       "│    │    └─MBConv (1)                                       [32, 192, 7, 7]\n",
       "│    │    └─MBConv (2)                                       [32, 192, 7, 7]\n",
       "│    │    └─MBConv (3)                                       [32, 192, 7, 7]\n",
       "│    └─Sequential (7)                                        [32, 192, 7, 7]\n",
       "│    │    └─MBConv (0)                                       [32, 192, 7, 7]\n",
       "│    └─Conv2dNormActivation (8)                              [32, 320, 7, 7]\n",
       "│    │    └─Conv2d (0)                                       [32, 320, 7, 7]\n",
       "│    │    └─BatchNorm2d (1)                                  [32, 1280, 7, 7]\n",
       "│    │    └─SiLU (2)                                         [32, 1280, 7, 7]\n",
       "├─AdaptiveAvgPool2d (avgpool)                                [32, 1280, 7, 7]\n",
       "├─Sequential (classifier)                                    [32, 1280]\n",
       "│    └─Dropout (0)                                           [32, 1280]\n",
       "│    └─Linear (1)                                            [32, 1280]\n",
       "================================================================================\n",
       "Total params: 5,288,548\n",
       "Trainable params: 5,288,548\n",
       "Non-trainable params: 0\n",
       "Total mult-adds (G): 12.35\n",
       "================================================================================\n",
       "Input size (MB): 19.27\n",
       "Forward/backward pass size (MB): 3452.35\n",
       "Params size (MB): 21.15\n",
       "Estimated Total Size (MB): 3492.77\n",
       "================================================================================"
      ]
     },
     "execution_count": 9,
     "metadata": {},
     "output_type": "execute_result"
    }
   ],
   "source": [
    "summary(model=model, \n",
    "        input_size=(32, 3, 224, 224),\n",
    "        col_names=[\"input_size\"], \n",
    "        col_width=20,\n",
    "        row_settings=[\"var_names\"]\n",
    ")"
   ]
  },
  {
   "cell_type": "code",
   "execution_count": 10,
   "id": "bf7e0f84",
   "metadata": {},
   "outputs": [],
   "source": [
    "for param in model.features.parameters():\n",
    "    param.requires_grad = False"
   ]
  },
  {
   "cell_type": "code",
   "execution_count": 11,
   "id": "755e4ff9",
   "metadata": {},
   "outputs": [],
   "source": [
    "torch.manual_seed(42)\n",
    "torch.cuda.manual_seed(42)\n",
    "\n",
    "output_shape = len(class_names)\n",
    "\n",
    "model.classifier = nn.Sequential(\n",
    "    nn.Dropout(p=0.2, inplace=True),\n",
    "    nn.Linear(in_features=1280,\n",
    "              out_features=output_shape,\n",
    "              bias=True)\n",
    ").to(device=device)"
   ]
  },
  {
   "cell_type": "code",
   "execution_count": 12,
   "id": "9eaf0da1",
   "metadata": {},
   "outputs": [],
   "source": [
    "loss_fn = nn.CrossEntropyLoss()\n",
    "optimizer = torch.optim.Adam(params=model.parameters(), lr= 0.001)"
   ]
  },
  {
   "cell_type": "code",
   "execution_count": 13,
   "id": "8f8a1945",
   "metadata": {},
   "outputs": [
    {
     "name": "stderr",
     "output_type": "stream",
     "text": [
      "  0%|          | 0/5 [00:00<?, ?it/s]"
     ]
    },
    {
     "name": "stdout",
     "output_type": "stream",
     "text": [
      "TRAIN LOSS: 0.3390136974294321 | TRAIN ACCURACY: 90.69164691943128\n"
     ]
    },
    {
     "name": "stderr",
     "output_type": "stream",
     "text": [
      " 20%|██        | 1/5 [01:41<06:47, 101.87s/it]"
     ]
    },
    {
     "name": "stdout",
     "output_type": "stream",
     "text": [
      "TEST LOSS: 0.18753349590808788 | TEST ACCURACY: 94.71010638297872\n",
      "Epoch: 1 | train_loss: 0.3390 | train_acc: 90.6916 | test_loss: 0.1875 | test_acc: 94.7101\n",
      "TRAIN LOSS: 0.17177075841927555 | TRAIN ACCURACY: 94.30539099526067\n"
     ]
    },
    {
     "name": "stderr",
     "output_type": "stream",
     "text": [
      " 40%|████      | 2/5 [03:24<05:07, 102.46s/it]"
     ]
    },
    {
     "name": "stdout",
     "output_type": "stream",
     "text": [
      "TEST LOSS: 0.14835997750150395 | TEST ACCURACY: 95.81117021276596\n",
      "Epoch: 2 | train_loss: 0.1718 | train_acc: 94.3054 | test_loss: 0.1484 | test_acc: 95.8112\n",
      "TRAIN LOSS: 0.1568938730575886 | TRAIN ACCURACY: 94.5571682464455\n"
     ]
    },
    {
     "name": "stderr",
     "output_type": "stream",
     "text": [
      " 60%|██████    | 3/5 [05:09<03:26, 103.35s/it]"
     ]
    },
    {
     "name": "stdout",
     "output_type": "stream",
     "text": [
      "TEST LOSS: 0.15738087258440384 | TEST ACCURACY: 94.35904255319149\n",
      "Epoch: 3 | train_loss: 0.1569 | train_acc: 94.5572 | test_loss: 0.1574 | test_acc: 94.3590\n",
      "TRAIN LOSS: 0.14190568790828448 | TRAIN ACCURACY: 94.79413507109005\n"
     ]
    },
    {
     "name": "stderr",
     "output_type": "stream",
     "text": [
      " 80%|████████  | 4/5 [06:52<01:43, 103.33s/it]"
     ]
    },
    {
     "name": "stdout",
     "output_type": "stream",
     "text": [
      "TEST LOSS: 0.1399865661292 | TEST ACCURACY: 95.12765957446808\n",
      "Epoch: 4 | train_loss: 0.1419 | train_acc: 94.7941 | test_loss: 0.1400 | test_acc: 95.1277\n",
      "TRAIN LOSS: 0.136936760300073 | TRAIN ACCURACY: 95.08293838862559\n"
     ]
    },
    {
     "name": "stderr",
     "output_type": "stream",
     "text": [
      "100%|██████████| 5/5 [08:31<00:00, 102.21s/it]"
     ]
    },
    {
     "name": "stdout",
     "output_type": "stream",
     "text": [
      "TEST LOSS: 0.14055434669902983 | TEST ACCURACY: 94.84308510638297\n",
      "Epoch: 5 | train_loss: 0.1369 | train_acc: 95.0829 | test_loss: 0.1406 | test_acc: 94.8431\n"
     ]
    },
    {
     "name": "stderr",
     "output_type": "stream",
     "text": [
      "\n"
     ]
    }
   ],
   "source": [
    "torch.manual_seed(42)\n",
    "torch.cuda.manual_seed(42)\n",
    "\n",
    "from timeit import default_timer as timer\n",
    "start_time = timer()\n",
    "\n",
    "results = engine.train(model= model, train_dataloader= train_dataloaders, test_dataloader= test_dataloaders, loss_fn= loss_fn, optimizer= optimizer, epochs= 5)"
   ]
  },
  {
   "cell_type": "code",
   "execution_count": 16,
   "id": "1819b4ce",
   "metadata": {},
   "outputs": [
    {
     "data": {
      "image/png": "[encoded data removed]",
      "text/plain": [
       "<Figure size 1500x700 with 2 Axes>"
      ]
     },
     "metadata": {},
     "output_type": "display_data"
    }
   ],
   "source": [
    "plot_loss_curves(results=results)"
   ]
  },
  {
   "cell_type": "code",
   "execution_count": 18,
   "id": "dcdf7d9d",
   "metadata": {},
   "outputs": [
    {
     "name": "stdout",
     "output_type": "stream",
     "text": [
      "[INFO] Saving model to: C:\\Users\\Rizzam\\Documents\\CODES\\Python\\deep_learning\\pytorch\\animal_predictor\\models\\efficientnet_b0.pth\n"
     ]
    }
   ],
   "source": [
    "utils.save_model(model=model, target_dir= r\"C:\\Users\\Rizzam\\Documents\\CODES\\Python\\deep_learning\\pytorch\\animal_predictor\\models\", model_name= \"efficientnet_b0.pth\")"
   ]
  }
 ],
 "metadata": {
  "kernelspec": {
   "display_name": "pytorch-gpu",
   "language": "python",
   "name": "python3"
  },
  "language_info": {
   "codemirror_mode": {
    "name": "ipython",
    "version": 3
   },
   "file_extension": ".py",
   "mimetype": "text/x-python",
   "name": "python",
   "nbconvert_exporter": "python",
   "pygments_lexer": "ipython3",
   "version": "3.10.18"
  }
 },
 "nbformat": 4,
 "nbformat_minor": 5
}
